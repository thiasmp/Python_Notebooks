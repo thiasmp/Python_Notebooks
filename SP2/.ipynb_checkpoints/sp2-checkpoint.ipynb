{
 "cells": [
  {
   "cell_type": "code",
   "execution_count": 7,
   "metadata": {},
   "outputs": [
    {
     "data": {
      "image/png": "[encoded data removed]",
      "text/plain": [
       "<Figure size 432x288 with 1 Axes>"
      ]
     },
     "metadata": {
      "needs_background": "light"
     },
     "output_type": "display_data"
    }
   ],
   "source": [
    "from multiprocessing.reduction import ACKNOWLEDGE\n",
    "from selenium import webdriver\n",
    "from selenium.webdriver.common.keys import Keys\n",
    "from selenium.webdriver.firefox.options import Options\n",
    "from selenium import webdriver\n",
    "from selenium.webdriver.common.by import By\n",
    "from selenium.webdriver.support.ui import WebDriverWait\n",
    "from selenium.webdriver.support import expected_conditions as EC\n",
    "import pandas as pd\n",
    "import bs4\n",
    "import json\n",
    "import matplotlib.pyplot as plt\n",
    "\n",
    "\n",
    "\n",
    "url = 'https://www.komplett.dk/category/21064/mobil/mobiltelefoner?nlevel=10444§21064&hits=240'\n",
    "#This is for making a csv for all phones and prices on Komplett\n",
    "def komplett():\n",
    "    profile = webdriver.FirefoxProfile()\n",
    "    profile.set_preference(\"general.useragent.override\", \"Mozilla/5.0 (X11; Ubuntu; Linux x86_64; rv:81.0) Gecko/20100101 Firefox/81.0\")\n",
    "    \n",
    "    # headless is needed here because we do not have a GUI version of firefox\n",
    "    options = Options()\n",
    "    options.headless = True\n",
    "    # driver = webdriver.Firefox(options=options, executable_path=r'/tmp/geckodriver')\n",
    "    browser = webdriver.Firefox(options=options)\n",
    "\n",
    "    browser.get(url)\n",
    "    browser.implicitly_wait(2)\n",
    "\n",
    "    name = browser.find_elements_by_xpath('.//div[@class=\"text-content\"]/h2')\n",
    "    price = browser.find_elements_by_xpath('.//span[@class=\"product-price-now\"]')\n",
    "    \n",
    "    product_names = [b.text for b in name]\n",
    "    prices = [p.text for p in price]\n",
    "    \n",
    "    dct = {'Name': product_names, 'Price': prices}\n",
    "    \n",
    "    komplett_df = pd.DataFrame(dct)\n",
    "    #print(komplett_df)\n",
    "    komplett_df.to_csv(\"komplett.csv\",index=False)   \n",
    "\n",
    "    \n",
    "def average_price():\n",
    "    df = pd.read_csv('komplett.csv')\n",
    "    \n",
    "    \n",
    "    mask_samsung = df.loc[df['Name'].str.contains('Samsung',case=True)]\n",
    "    mask_iphone = df.loc[df['Name'].str.contains('iPhone',case=True)]\n",
    "    \n",
    "    to_numeric_samsung = (pd.to_numeric(mask_samsung['Price'].str.replace(r\"[^\\d]\",\"\"))) \n",
    "    to_numeric_iphone = (pd.to_numeric(mask_iphone['Price'].str.replace(r\"[^\\d]\",\"\")))\n",
    "    \n",
    "    all_samsung_phones = len(mask_samsung)\n",
    "    all_iphones = len(mask_iphone)\n",
    "    \n",
    "    average_price_samsung = to_numeric_samsung.sum()/all_samsung_phones\n",
    "    average_price_iphone = to_numeric_iphone.sum()/all_iphones\n",
    "    return average_price_samsung, average_price_iphone\n",
    "\n",
    "samsung,iphone = average_price()\n",
    "\n",
    "phones_dct = {'Samsung': samsung, 'IPhone': iphone}\n",
    "\n",
    "def plotting():\n",
    "    plt.bar(phones_dct.keys(),phones_dct.values())\n",
    "    plt.show()\n",
    " \n",
    "#komplett()\n",
    "#average_price()\n",
    "plotting()"
   ]
  }
 ],
 "metadata": {
  "kernelspec": {
   "display_name": "Python 3 (ipykernel)",
   "language": "python",
   "name": "python3"
  },
  "language_info": {
   "codemirror_mode": {
    "name": "ipython",
    "version": 3
   },
   "file_extension": ".py",
   "mimetype": "text/x-python",
   "name": "python",
   "nbconvert_exporter": "python",
   "pygments_lexer": "ipython3",
   "version": "3.7.6"
  }
 },
 "nbformat": 4,
 "nbformat_minor": 2
}
