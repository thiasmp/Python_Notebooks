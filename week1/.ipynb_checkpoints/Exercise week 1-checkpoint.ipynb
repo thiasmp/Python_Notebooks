{
 "cells": [
  {
   "cell_type": "code",
   "execution_count": null,
   "metadata": {},
   "outputs": [],
   "source": [
    "#Iterate a list of names to return a list of the names starting with H\n",
    "new_list = [\"Henrik\",\"Mathias\",\"Thias\",\"Jens\",\"Hans\",\"Tobias\",\"Helga\",\"Kurt\"]\n",
    "print(new_list)\n",
    "my_comp = [element for element in new_list if element[0]=='H']\n",
    "\n",
    "print(my_comp)"
   ]
  },
  {
   "cell_type": "code",
   "execution_count": null,
   "metadata": {},
   "outputs": [],
   "source": [
    "#In one line create a list of the numbers 1-100 to the power of 3\n",
    "new_list = [x**3 for x in range(101)]\n",
    "print(new_list) "
   ]
  },
  {
   "cell_type": "code",
   "execution_count": 3,
   "metadata": {},
   "outputs": [
    {
     "data": {
      "text/plain": [
       "[(6, 'Henrik'),\n",
       " (7, 'Mathias'),\n",
       " (5, 'Thias'),\n",
       " (4, 'Jens'),\n",
       " (4, 'Hans'),\n",
       " (6, 'Tobias'),\n",
       " (5, 'Helga'),\n",
       " (4, 'Kurt')]"
      ]
     },
     "execution_count": 3,
     "metadata": {},
     "output_type": "execute_result"
    }
   ],
   "source": [
    "new_list = [\"Henrik\",\"Mathias\",\"Thias\",\"Jens\",\"Hans\",\"Tobias\",\"Helga\",\"Kurt\"]\n",
    "    \n",
    "def func_(lis):\n",
    "    \n",
    "    lst = [] # Don't use 'list' as a name; it overshadows the built-in\n",
    "    for x in lis:\n",
    "        lst.append((len(x), x))\n",
    "        \n",
    "    return lst\n",
    "\n",
    "func_(new_list)\n",
    "\n",
    "\n"
   ]
  },
  {
   "cell_type": "code",
   "execution_count": null,
   "metadata": {},
   "outputs": [],
   "source": []
  }
 ],
 "metadata": {
  "kernelspec": {
   "display_name": "Python 3",
   "language": "python",
   "name": "python3"
  },
  "language_info": {
   "codemirror_mode": {
    "name": "ipython",
    "version": 3
   },
   "file_extension": ".py",
   "mimetype": "text/x-python",
   "name": "python",
   "nbconvert_exporter": "python",
   "pygments_lexer": "ipython3",
   "version": "3.7.6"
  }
 },
 "nbformat": 4,
 "nbformat_minor": 4
}
