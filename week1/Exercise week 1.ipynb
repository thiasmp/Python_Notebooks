{
 "cells": [
  {
   "cell_type": "code",
   "execution_count": null,
   "metadata": {},
   "outputs": [],
   "source": [
    "#Iterate a list of names to return a list of the names starting with H\n",
    "new_list = [\"Henrik\",\"Mathias\",\"Thias\",\"Jens\",\"Hans\",\"Tobias\",\"Helga\",\"Kurt\"]\n",
    "print(new_list)\n",
    "my_comp = [element for element in new_list if element[0]=='H']\n",
    "\n",
    "print(my_comp)"
   ]
  },
  {
   "cell_type": "code",
   "execution_count": null,
   "metadata": {},
   "outputs": [],
   "source": [
    "#In one line create a list of the numbers 1-100 to the power of 3\n",
    "print([x**3 for x in range(101)])"
   ]
  },
  {
   "cell_type": "code",
   "execution_count": null,
   "metadata": {},
   "outputs": [],
   "source": [
    "new_list = [\"Henrik\",\"Mathias\",\"Thias\",\"Jens\",\"Hans\",\"Tobias\",\"Helga\",\"Kurt\"]\n",
    "    \n",
    "def func_(lis):\n",
    "    \n",
    "    lst = []\n",
    "    for x in lis:\n",
    "        lst.append((len(x), x))\n",
    "        \n",
    "    return lst\n",
    "\n",
    "func_(new_list)\n",
    "\n",
    "\n"
   ]
  },
  {
   "cell_type": "code",
   "execution_count": null,
   "metadata": {},
   "outputs": [],
   "source": [
    "#Iterate over each character in a string and get only those that are nummeric\n",
    "str = \"jeg har 1 øl og drukket den på 23 sekunder over 2 dage\"\n",
    "   \n",
    "numeric = [x for x in str if x.isnumeric()]\n",
    "    \n",
    "print(numeric)"
   ]
  },
  {
   "cell_type": "code",
   "execution_count": 1,
   "metadata": {},
   "outputs": [
    {
     "name": "stdout",
     "output_type": "stream",
     "text": [
      "[(1, 1), (1, 2), (1, 3), (1, 4), (1, 5), (1, 6), (2, 1), (2, 2), (2, 3), (2, 4), (2, 5), (2, 6), (3, 1), (3, 2), (3, 3), (3, 4), (3, 5), (3, 6), (4, 1), (4, 2), (4, 3), (4, 4), (4, 5), (4, 6), (5, 1), (5, 2), (5, 3), (5, 4), (5, 5), (5, 6), (6, 1), (6, 2), (6, 3), (6, 4), (6, 5), (6, 6)]\n"
     ]
    }
   ],
   "source": [
    "#Using only a list comprehension wrapped in set() get all possible combination from throwing 2 dice \n",
    "#(hint use 2 for loops in a single list comprehension)\n",
    "dice = set([(x,i) for x in range(1,7) for i in range(1,7)])\n",
    "\n",
    "print(sorted(dice))\n",
    "\n",
    "\n"
   ]
  },
  {
   "cell_type": "code",
   "execution_count": null,
   "metadata": {},
   "outputs": [],
   "source": [
    "#Iterate a list of names and create a dictionary where key is the name and value is the length of the name\n",
    "new_list = [\"Henrik\",\"Mathias\",\"Thias\",\"Jens\",\"Hans\",\"Tobias\",\"Helga\",\"Kurt\"]\n",
    "\n",
    "new_dct = {name: len(name) for name in new_list}\n",
    "\n",
    "print(new_dct)\n",
    "\n"
   ]
  },
  {
   "cell_type": "code",
   "execution_count": null,
   "metadata": {},
   "outputs": [],
   "source": [
    "#Iterate a list of numbers and create a dictionary with {key:value} being {number:squareroot_of_number}\n",
    "import math\n",
    "new_list = [1,5,2,4,7,9,20,123,59,129]\n",
    "\n",
    "new_dct = {num: math.sqrt(num) for num in new_list}\n",
    "\n",
    "print(new_dct)\n"
   ]
  },
  {
   "cell_type": "code",
   "execution_count": null,
   "metadata": {},
   "outputs": [],
   "source": []
  }
 ],
 "metadata": {
  "kernelspec": {
   "display_name": "Python 3",
   "language": "python",
   "name": "python3"
  },
  "language_info": {
   "codemirror_mode": {
    "name": "ipython",
    "version": 3
   },
   "file_extension": ".py",
   "mimetype": "text/x-python",
   "name": "python",
   "nbconvert_exporter": "python",
   "pygments_lexer": "ipython3",
   "version": "3.7.6"
  }
 },
 "nbformat": 4,
 "nbformat_minor": 4
}
