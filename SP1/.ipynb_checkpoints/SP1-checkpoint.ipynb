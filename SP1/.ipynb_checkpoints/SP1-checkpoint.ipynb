{
 "cells": [
  {
   "cell_type": "code",
   "execution_count": 1,
   "metadata": {},
   "outputs": [
    {
     "name": "stdout",
     "output_type": "stream",
     "text": [
      "       3                Black Panther (2018)  \\\n",
      "0      4       Avengers: Infinity War (2018)   \n",
      "1      5      Spider-Man: No Way Home (2021)   \n",
      "2      6                      Titanic (1997)   \n",
      "3      7               Jurassic World (2015)   \n",
      "4      8                 The Avengers (2012)   \n",
      "..   ...                                 ...   \n",
      "909  913                 The Notebook (2004)   \n",
      "910  914    Jimmy Neutron: Boy Genius (2001)   \n",
      "911  915                Eat Pray Love (2010)   \n",
      "912  916  The Texas Chainsaw Massacre (2003)   \n",
      "913  917                    Zookeeper (2011)   \n",
      "\n",
      "    T'Challa, heir to the hidden but advanced kingdom of Wakanda, must step forward to lead his people into a new future and must confront a challenger from his country's past.  \\\n",
      "0    The Avengers and their allies must be willing ...                                                                                                                             \n",
      "1    With Spider-Man's identity now revealed, Peter...                                                                                                                             \n",
      "2    A seventeen-year-old aristocrat falls in love ...                                                                                                                             \n",
      "3    A new theme park, built on the original site o...                                                                                                                             \n",
      "4    Earth's mightiest heroes must come together an...                                                                                                                             \n",
      "..                                                 ...                                                                                                                             \n",
      "909  A poor yet passionate young man falls in love ...                                                                                                                             \n",
      "910  An eight-year-old boy genius and his friends m...                                                                                                                             \n",
      "911  A married woman realizes how unhappy her marri...                                                                                                                             \n",
      "912  After picking up a traumatized young hitchhike...                                                                                                                             \n",
      "913  A group of zoo animals decide to break their c...                                                                                                                             \n",
      "\n",
      "     Walt Disney Studios Motion Pictures                 NA  700426566  \\\n",
      "0    Walt Disney Studios Motion Pictures                NaN  678815482   \n",
      "1      Sony Pictures Entertainment (SPE)                NaN  675813257   \n",
      "2                     Paramount Pictures  December 19, 1997  659363944   \n",
      "3                     Universal Pictures      June 10, 2015  652385625   \n",
      "4    Walt Disney Studios Motion Pictures     April 25, 2012  623357910   \n",
      "..                                   ...                ...        ...   \n",
      "909                      New Line Cinema      June 25, 2004   81001787   \n",
      "910                   Paramount Pictures  December 21, 2001   80936232   \n",
      "911    Sony Pictures Entertainment (SPE)    August 13, 2010   80574010   \n",
      "912                      New Line Cinema   October 17, 2003   80571655   \n",
      "913    Sony Pictures Entertainment (SPE)       July 6, 2011   80360843   \n",
      "\n",
      "      647171407  1347597973  \\\n",
      "0    1369544272  2048359754   \n",
      "1     868642706  1544455963   \n",
      "2    1542283320  2201647264   \n",
      "3    1018130819  1670516444   \n",
      "4     895457605  1518815515   \n",
      "..          ...         ...   \n",
      "909    36813370   117815157   \n",
      "910    22056304   102992536   \n",
      "911   124020006   204594016   \n",
      "912    26792250   107363905   \n",
      "913    89491916   169852759   \n",
      "\n",
      "                     ['Action', 'Adventure', 'Sci-Fi']  2 hr 14 min   NA.1  \n",
      "0                    ['Action', 'Adventure', 'Sci-Fi']  2 hr 29 min    NaN  \n",
      "1         ['Action', 'Adventure', 'Fantasy', 'Sci-Fi']  2 hr 28 min    NaN  \n",
      "2                                 ['Drama', 'Romance']  3 hr 14 min  PG-13  \n",
      "3                    ['Action', 'Adventure', 'Sci-Fi']   2 hr 4 min  PG-13  \n",
      "4                    ['Action', 'Adventure', 'Sci-Fi']  2 hr 23 min  PG-13  \n",
      "..                                                 ...          ...    ...  \n",
      "909                               ['Drama', 'Romance']   2 hr 3 min  PG-13  \n",
      "910  ['Action', 'Adventure', 'Animation', 'Comedy',...  1 hr 22 min    NaN  \n",
      "911                  ['Biography', 'Drama', 'Romance']  2 hr 13 min  PG-13  \n",
      "912                                ['Crime', 'Horror']  1 hr 38 min      R  \n",
      "913         ['Comedy', 'Family', 'Fantasy', 'Romance']  1 hr 42 min     PG  \n",
      "\n",
      "[914 rows x 11 columns]\n"
     ]
    }
   ],
   "source": [
    "import numpy as np\n",
    "import pandas as pd\n",
    "#1 Find the top 10 highest grossing Disney movies by world sales\n",
    "data = pd.read_csv(\"Highest Holywood Grossing Movies.csv\", skiprows=4)\n",
    "\n",
    "walt_disney = pd.series(data=data[\"Distributor\"].values, index =\"Walt Di\")\n",
    "print(data)\n",
    "\n",
    "   "
   ]
  },
  {
   "cell_type": "code",
   "execution_count": null,
   "metadata": {},
   "outputs": [],
   "source": []
  }
 ],
 "metadata": {
  "interpreter": {
   "hash": "21f7f299da846c82a6949e3ad810ea688adcb92362792d4d3afe9dd28d6b5c4e"
  },
  "kernelspec": {
   "display_name": "Python 3 (ipykernel)",
   "language": "python",
   "name": "python3"
  },
  "language_info": {
   "codemirror_mode": {
    "name": "ipython",
    "version": 3
   },
   "file_extension": ".py",
   "mimetype": "text/x-python",
   "name": "python",
   "nbconvert_exporter": "python",
   "pygments_lexer": "ipython3",
   "version": "3.7.6"
  }
 },
 "nbformat": 4,
 "nbformat_minor": 2
}
