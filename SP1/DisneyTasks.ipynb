{
 "cells": [
  {
   "cell_type": "code",
   "execution_count": 1,
   "metadata": {},
   "outputs": [
    {
     "name": "stdout",
     "output_type": "stream",
     "text": [
      "0      2.069522e+09\n",
      "1      2.797501e+09\n",
      "2               NaN\n",
      "3      1.347598e+09\n",
      "4      2.048360e+09\n",
      "           ...     \n",
      "913             NaN\n",
      "914             NaN\n",
      "915             NaN\n",
      "916             NaN\n",
      "917             NaN\n",
      "Name: World Sales (in $), Length: 918, dtype: float64\n",
      "1     2.797501e+09\n",
      "0     2.069522e+09\n",
      "4     2.048360e+09\n",
      "11    1.662899e+09\n",
      "8     1.518816e+09\n",
      "17    1.450027e+09\n",
      "20    1.402810e+09\n",
      "3     1.347598e+09\n",
      "9     1.332699e+09\n",
      "39    1.281508e+09\n",
      "Name: World Sales (in $), dtype: float64\n"
     ]
    }
   ],
   "source": [
    "import numpy as np\n",
    "import pandas as pd\n",
    "\n",
    "\n",
    "#1 Find the top 10 highest grossing Disney movies by world sales\n",
    "data = pd.read_csv(\"Highest Holywood Grossing Movies.csv\")\n",
    "\n",
    "ws = data['World Sales (in $)'].where(data['Distributor']=='Walt Disney Studios Motion Pictures')\n",
    "\n",
    "top_10 = ws.sort_values(ascending=False)\n",
    "print(top_10[:10])\n",
    "\n",
    "#Mangler at få navne på film med, men ID er der."
   ]
  },
  {
   "cell_type": "code",
   "execution_count": 2,
   "metadata": {},
   "outputs": [
    {
     "data": {
      "image/png": "[encoded data removed]",
      "text/plain": [
       "<Figure size 432x288 with 1 Axes>"
      ]
     },
     "metadata": {},
     "output_type": "display_data"
    }
   ],
   "source": [
    "import matplotlib.pyplot as plt\n",
    "import numpy as np\n",
    "import pandas as pd\n",
    "#2. Create a pie chart that shows the distribution of Licenses (PG, R, M and so on)\n",
    "data = pd.read_csv(\"Highest Holywood Grossing Movies.csv\")\n",
    "#license = data['License']\n",
    "#lc = data.groupby('License').count()\n",
    "\n",
    "data2 = {'G': 14, 'PG': 173, 'PG-13': 363, 'R': 194}\n",
    "explode = (0, 0, 0, 0) # offset second slice\n",
    "fig1, ax1 = plt.subplots() # first returned is the containing figure (fig1), then the subplot Axe object(s) (ax1)\n",
    "ax1.pie(data2.values(), labels=data2.keys(), explode=explode, autopct=lambda p:'{:.2f}%({:.0f})'.format(p,(p/100)*sum(data2.values())), \n",
    "        #autopct=make_autopct(data.values()), \n",
    "        #autopct='%.1f', \n",
    "        # autopct= a format string like '%1.2f%%' for showing pct sign and 2 decimals\n",
    "        shadow=True, startangle=90)\n",
    "ax1.set_aspect('equal')\n",
    "ax1.legend(data2.keys(), loc='upper right') # use instead of labels in ax1.pie(...)\n",
    "#ax1.axis('equal')  \n",
    "#plt.tight_layout()\n",
    "plt.show()\n",
    "\n",
    "#Vi kunne ikke trække ID ud af vores lc, så vi endte med at hardcode dataen vi trak ud."
   ]
  },
  {
   "cell_type": "code",
   "execution_count": 125,
   "metadata": {},
   "outputs": [
    {
     "name": "stdout",
     "output_type": "stream",
     "text": [
      "113\n",
      "12.322791712104689\n"
     ]
    }
   ],
   "source": [
    "#3. Get the percentage of PG rated movies between 2001 and 2015\n",
    "import re\n",
    "data = pd.read_csv(\"Highest Holywood Grossing Movies.csv\")\n",
    "\n",
    "\n",
    "def title_splitter(year1, year2):\n",
    "    df = data['Title'].where(data['License']=='PG')\n",
    "    clearnedList = [x for x in df if str(x) != 'nan']\n",
    "    counter = 0\n",
    "    for value in clearnedList:\n",
    "        tmp1 = value.split('(')\n",
    "        newtmp = [x[:-1] for x in tmp1]\n",
    "        only_years = newtmp[-1]\n",
    "        #print(only_years)\n",
    "        tmp = only_years.split('\\n')\n",
    "        #print(tmp)\n",
    "        new_list = ([])\n",
    "        \n",
    "        for x in range(len(tmp)):\n",
    "            new_list.append(int(tmp[x])) \n",
    "            \n",
    "        \n",
    "        \n",
    "        for x in range(len(new_list)):    \n",
    "            if year1 <= new_list[x] <= year2:\n",
    "                counter += 1\n",
    "                #print(new_list[x])\n",
    "            else:\n",
    "                pass\n",
    "            #print(tmp[x])\n",
    "        \n",
    "        \n",
    "    print(counter)\n",
    "    percent = (counter/917)*100\n",
    "    print(percent)\n",
    "            \n",
    "        \n",
    "            \n",
    "        #print(f\"Index : {index}, Value : {value}\")\n",
    "\n",
    "\n",
    "title_splitter(2001, 2015)\n",
    "#converter(\"December 16, 2015\")\n",
    "#def pg_procent(year):\n",
    "    \n",
    "#pg_procent = data['License'].where(data['Release Date']== converter(\"2015\"))\n",
    "                                   \n",
    "#print(pg_procent)"
   ]
  }
 ],
 "metadata": {
  "kernelspec": {
   "display_name": "Python 3 (ipykernel)",
   "language": "python",
   "name": "python3"
  },
  "language_info": {
   "codemirror_mode": {
    "name": "ipython",
    "version": 3
   },
   "file_extension": ".py",
   "mimetype": "text/x-python",
   "name": "python",
   "nbconvert_exporter": "python",
   "pygments_lexer": "ipython3",
   "version": "3.7.6"
  }
 },
 "nbformat": 4,
 "nbformat_minor": 2
}
