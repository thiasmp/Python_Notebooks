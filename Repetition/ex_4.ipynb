{
 "cells": [
  {
   "cell_type": "code",
   "execution_count": null,
   "metadata": {},
   "outputs": [],
   "source": [
    "import numpy as np\n",
    "import matplotlib.pyplot as plt\n",
    "\n",
    "\n",
    "# Exercise 1¶\n",
    "# 1. Open the file './data/befkbhalderstatkode.csv'\n",
    "stat_kode = 'befkbhalderstatkode.csv'\n",
    "\n",
    "# 2. Turn the csv file into a numpy ndarray with np.genfromtxt(filename, delimiter=',', dtype=np.uint, skip_header=1)\n",
    "dd = np.genfromtxt(stat_kode, delimiter=',', dtype=np.uint, skip_header=1)\n",
    "\n",
    "# 3. Using this data:\n",
    "# Find out how many people lived in each of the 11 areas in 2015\n",
    "neighb = {1: 'Indre By', 2: 'Østerbro', 3: 'Nørrebro', 4: 'Vesterbro/Kgs. Enghave', \n",
    "          5: 'Valby', 6: 'Vanløse', 7: 'Brønshøj-Husum', 8: 'Bispebjerg', 9: 'Amager Øst', \n",
    "          10: 'Amager Vest', 99: 'Udenfor'}\n",
    "\n",
    "#print (dd)\n",
    "#print(dd[mask])\n",
    "\n",
    "mask = (dd[:,0] == 2015) & (dd[:,3] == 5100)\n",
    "def number_of_people_per_neighbourhood(n, mask):\n",
    "    \n",
    "    all_people_in_given_n = dd[mask & (dd[:,1] == n)]\n",
    "    sum_of_people = all_people_in_given_n[:,4].sum()\n",
    "    print(all_people_in_given_n)\n",
    "    return sum_of_people\n",
    "    #print(all_people_in_given_n)\n",
    "#people_in_areas = np.array([number_of_people_per_neighbourhood(n     , mask) for n in neighb.keys()]) \n",
    "#print(people_in_areas)   \n",
    "\n",
    "# 4. Make a bar plot to show the size of each city area from the smallest to the largest in 2015\n",
    "#values = neighb.values()\n",
    "#values_list = list(values)\n",
    "#dct = {values_list[i]:people_in_areas[i] for i in range(len(neighb))}\n",
    "#sorted_dict = dict(sorted(dct.items(), key=lambda item: item[1]))\n",
    "#print(sorted_dict.values())\n",
    "\n",
    "#plt.figure(figsize=(25,10))\n",
    "#plt.bar(sorted_dict.keys(),sorted_dict.values(),)\n",
    "#plt.show()\n",
    "\n",
    "# 5. Create a boolean mask to find out how many people above 65 years lived in Copenhagen in 2015\n",
    "# 6. How many of those were from the other nordic countries (not dk). Hint: see notebook: \"04 Numpy\"\n",
    "# 7. Make a line plot showing the changes of number of people in vesterbro and østerbro from 1992 to 2015"
   ]
  },
  {
   "cell_type": "code",
   "execution_count": null,
   "metadata": {},
   "outputs": [],
   "source": []
  },
  {
   "cell_type": "code",
   "execution_count": null,
   "metadata": {},
   "outputs": [],
   "source": []
  }
 ],
 "metadata": {
  "interpreter": {
   "hash": "21f7f299da846c82a6949e3ad810ea688adcb92362792d4d3afe9dd28d6b5c4e"
  },
  "kernelspec": {
   "display_name": "Python 3 (ipykernel)",
   "language": "python",
   "name": "python3"
  },
  "language_info": {
   "codemirror_mode": {
    "name": "ipython",
    "version": 3
   },
   "file_extension": ".py",
   "mimetype": "text/x-python",
   "name": "python",
   "nbconvert_exporter": "python",
   "pygments_lexer": "ipython3",
   "version": "3.7.9"
  }
 },
 "nbformat": 4,
 "nbformat_minor": 2
}
