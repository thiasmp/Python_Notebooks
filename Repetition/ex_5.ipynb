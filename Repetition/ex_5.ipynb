{
 "cells": [
  {
   "cell_type": "code",
   "execution_count": 34,
   "metadata": {},
   "outputs": [
    {
     "name": "stdout",
     "output_type": "stream",
     "text": [
      "0    428864\n",
      "1    552419\n",
      "Name: INDHOLD, dtype: int64\n",
      "28.809832487688404\n"
     ]
    },
    {
     "data": {
      "image/png": "[encoded data removed]",
      "text/plain": [
       "<Figure size 432x288 with 1 Axes>"
      ]
     },
     "metadata": {
      "needs_background": "light"
     },
     "output_type": "display_data"
    }
   ],
   "source": [
    "import pandas as pd\n",
    "import numpy as np\n",
    "import matplotlib.pyplot as plt\n",
    "\n",
    "# Ex1 Use data from Danmarks Statistik - Databanken\n",
    "# 1. Go to https://www.dst.dk/da/Statistik/brug-statistikken/muligheder-i-statistikbanken/api#testkonsol\n",
    "# 2. Open 'Konsol' and click 'Start Konsol'\n",
    "# 3. In the console at pt 1: choose 'Retrieve tables', pt 2: choose get request and json format and pt 3: execute:\n",
    "\n",
    "# 5. With data aggregation and data visualization answer the following questions:\n",
    "#   1. What is the change in pct of divorced danes from 2008 to 2020?\n",
    "\n",
    "df = pd.read_csv('status.csv')\n",
    "\n",
    "aar = df['TID']\n",
    "indhold = df['INDHOLD']\n",
    "print(indhold)\n",
    "print( ((indhold[1]-indhold[0])/indhold[0] * 100)) \n",
    "plt.bar(aar,indhold)\n",
    "plt.show()\n",
    "\n",
    "\n",
    "\n",
    "\n",
    "\n"
   ]
  },
  {
   "cell_type": "code",
   "execution_count": 115,
   "metadata": {},
   "outputs": [
    {
     "name": "stdout",
     "output_type": "stream",
     "text": [
      "[637936 205881 116665 353445 219310]\n",
      "[417782 113639  55116 211863 120226]\n",
      "[65.48964159 55.19644843 47.24296061 59.94228239 54.82011764]\n"
     ]
    }
   ],
   "source": [
    "#   2. Which of the 5 biggest cities has the highest percentage of 'Never Married' in 2020?\n",
    "df = pd.read_csv('all_citizens.csv')\n",
    "df2 = pd.read_csv('nevermarried.csv')\n",
    "\n",
    "mask = df[['OMRÅDE','INDHOLD']].sort_values('INDHOLD', ascending=False)\n",
    "#print(mask[:5])\n",
    "all_citizens = df[df['OMRÅDE'].isin(['København', 'Aarhus', 'Aalborg',\n",
    "                                       'Odense', 'Vejle'])][['OMRÅDE','INDHOLD']]\n",
    "\n",
    "never_married = df2[df2['OMRÅDE'].isin(['København', 'Aarhus', 'Aalborg',\n",
    "                                       'Odense', 'Vejle'])][['OMRÅDE','INDHOLD']]\n",
    "\n",
    "#print(all_citizens)\n",
    "indhold_all_citizens = all_citizens['INDHOLD']\n",
    "indhold_not_married = never_married['INDHOLD']\n",
    "\n",
    "list_all_citizens = indhold_all_citizens.values\n",
    "list_not_married = indhold_not_married.values\n",
    "\n",
    "print(list_all_citizens)\n",
    "print(list_not_married)\n",
    "\n",
    "print((list_not_married/list_all_citizens) * 100)\n",
    "\n",
    "#Vi kunne lave til et dict, så vi får bynavne med :)    "
   ]
  },
  {
   "cell_type": "code",
   "execution_count": null,
   "metadata": {},
   "outputs": [],
   "source": [
    "#   3. Show a bar chart of changes in marrital status in Copenhagen from 2008 till now\n"
   ]
  },
  {
   "cell_type": "code",
   "execution_count": null,
   "metadata": {},
   "outputs": [],
   "source": [
    "#   4. Show 2 plots in same figure: 'Married' and 'Never Married' for all ages in DK in 2020 \n",
    "# (Hint: x axis is age from 0-125, y axis is how many people in the 2 categories). Add lengend to show names on graphs"
   ]
  }
 ],
 "metadata": {
  "kernelspec": {
   "display_name": "Python 3 (ipykernel)",
   "language": "python",
   "name": "python3"
  },
  "language_info": {
   "codemirror_mode": {
    "name": "ipython",
    "version": 3
   },
   "file_extension": ".py",
   "mimetype": "text/x-python",
   "name": "python",
   "nbconvert_exporter": "python",
   "pygments_lexer": "ipython3",
   "version": "3.7.6"
  }
 },
 "nbformat": 4,
 "nbformat_minor": 2
}
