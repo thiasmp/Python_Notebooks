{
 "cells": [
  {
   "cell_type": "code",
   "execution_count": 22,
   "metadata": {},
   "outputs": [
    {
     "name": "stdout",
     "output_type": "stream",
     "text": [
      "[(9, 51, 5.5)]\n",
      "[(1, 1, 1), (1, 53, 3), (23, 14, 5), (20, 32, 3), (0, 51, 0), (14, 56, 4), (5, 45, 4), (3, 33, 4), (19, 22, 4), (2, 50, 3), (10, 19, 3), (20, 10, 3), (7, 22, 1), (15, 22, 5), (24, 26, 5)]\n"
     ]
    },
    {
     "ename": "TypeError",
     "evalue": "plot_baby() takes 1 positional argument but 2 were given",
     "output_type": "error",
     "traceback": [
      "\u001b[0;31m---------------------------------------------------------------------------\u001b[0m",
      "\u001b[0;31mTypeError\u001b[0m                                 Traceback (most recent call last)",
      "\u001b[0;32m/tmp/ipykernel_268/815675050.py\u001b[0m in \u001b[0;36m<module>\u001b[0;34m\u001b[0m\n\u001b[1;32m     44\u001b[0m \u001b[0;34m\u001b[0m\u001b[0m\n\u001b[1;32m     45\u001b[0m \u001b[0;34m\u001b[0m\u001b[0m\n\u001b[0;32m---> 46\u001b[0;31m \u001b[0mplot_baby\u001b[0m\u001b[0;34m(\u001b[0m\u001b[0molder_baby\u001b[0m\u001b[0;34m(\u001b[0m\u001b[0;36m15\u001b[0m\u001b[0;34m)\u001b[0m\u001b[0;34m,\u001b[0m\u001b[0mgenerate_baby\u001b[0m\u001b[0;34m(\u001b[0m\u001b[0;36m15\u001b[0m\u001b[0;34m)\u001b[0m\u001b[0;34m)\u001b[0m\u001b[0;34m\u001b[0m\u001b[0;34m\u001b[0m\u001b[0m\n\u001b[0m\u001b[1;32m     47\u001b[0m \u001b[0;34m\u001b[0m\u001b[0m\n",
      "\u001b[0;31mTypeError\u001b[0m: plot_baby() takes 1 positional argument but 2 were given"
     ]
    }
   ],
   "source": [
    "import matplotlib.pyplot as plt\n",
    "from mpl_toolkits.mplot3d import Axes3D\n",
    "from sklearn.datasets import make_blobs\n",
    "import random\n",
    "import numpy as np\n",
    "#1\n",
    "def generate_baby(amount):\n",
    "    data = []\n",
    "    \n",
    "    for x in range(amount):\n",
    "        baby_age = random.randint(0,24)\n",
    "        baby_height = random.randint(0,60)\n",
    "        baby_weight = random.randint(0,5)\n",
    "        data.append((baby_age,baby_height,baby_weight))\n",
    "    \n",
    "    print(data)\n",
    "    return np.asarray(data)\n",
    "    \n",
    "        \n",
    "#2\n",
    "def plot_baby(baby):\n",
    "    data_3d, _ = make_blobs(n_samples=2500, centers=baby, cluster_std=0.37)\n",
    "    x, y, z = data_3d[:,0], data_3d[:,1], data_3d[:,2]\n",
    "\n",
    "    fig = plt.figure()\n",
    "    ax = fig.add_subplot(111, projection='3d')\n",
    "    ax.scatter(x, y, z, linewidth=0.2)\n",
    "\n",
    "    plt.show()\n",
    "\n",
    "\n",
    "#3   \n",
    "def older_baby(amount):\n",
    "   \n",
    "    data = []\n",
    "    for x in range(amount):\n",
    "        baby_age = random.randint(0,24)\n",
    "        baby_height = baby_age*1+random.randint(0,60)\n",
    "        baby_weight = baby_age*0.5+random.randint(0,5)\n",
    "        data.append((baby_age,baby_height,baby_weight))\n",
    "        \n",
    "        print(data)\n",
    "        return np.asarray(data)\n",
    "\n",
    "    \n",
    "plot_baby(older_baby(15))\n",
    "          "
   ]
  },
  {
   "cell_type": "code",
   "execution_count": null,
   "metadata": {},
   "outputs": [],
   "source": []
  }
 ],
 "metadata": {
  "interpreter": {
   "hash": "21f7f299da846c82a6949e3ad810ea688adcb92362792d4d3afe9dd28d6b5c4e"
  },
  "kernelspec": {
   "display_name": "Python 3 (ipykernel)",
   "language": "python",
   "name": "python3"
  },
  "language_info": {
   "codemirror_mode": {
    "name": "ipython",
    "version": 3
   },
   "file_extension": ".py",
   "mimetype": "text/x-python",
   "name": "python",
   "nbconvert_exporter": "python",
   "pygments_lexer": "ipython3",
   "version": "3.7.6"
  }
 },
 "nbformat": 4,
 "nbformat_minor": 2
}
