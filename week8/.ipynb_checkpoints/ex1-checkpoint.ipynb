{
 "cells": [
  {
   "cell_type": "code",
   "execution_count": 4,
   "metadata": {},
   "outputs": [
    {
     "ename": "TypeError",
     "evalue": "plot_baby() missing 1 required positional argument: 'baby'",
     "output_type": "error",
     "traceback": [
      "\u001b[0;31m---------------------------------------------------------------------------\u001b[0m",
      "\u001b[0;31mTypeError\u001b[0m                                 Traceback (most recent call last)",
      "\u001b[0;32m<ipython-input-4-c7f54ff7668a>\u001b[0m in \u001b[0;36m<module>\u001b[0;34m\u001b[0m\n\u001b[1;32m     29\u001b[0m \u001b[0;34m\u001b[0m\u001b[0m\n\u001b[1;32m     30\u001b[0m \u001b[0;34m\u001b[0m\u001b[0m\n\u001b[0;32m---> 31\u001b[0;31m \u001b[0mplot_baby\u001b[0m\u001b[0;34m(\u001b[0m\u001b[0;34m)\u001b[0m\u001b[0;34m\u001b[0m\u001b[0;34m\u001b[0m\u001b[0m\n\u001b[0m",
      "\u001b[0;31mTypeError\u001b[0m: plot_baby() missing 1 required positional argument: 'baby'"
     ]
    }
   ],
   "source": [
    "import matplotlib.pyplot as plt\n",
    "from mpl_toolkits.mplot3d import Axes3D\n",
    "from sklearn.datasets import make_blobs\n",
    "import random\n",
    "import numpy as np\n",
    "#1\n",
    "def generate_baby(amount):\n",
    "    data = []\n",
    "    \n",
    "    for x in range(amount):\n",
    "        baby_age = random.randint(0,24)\n",
    "        baby_height = random.randint(40,60)\n",
    "        baby_weight = random.randint(2,5)\n",
    "        data.append((baby_age,baby_height,baby_weight))\n",
    "    \n",
    "    print(data)\n",
    "    return np.asarray(data)    \n",
    "        \n",
    "#2\n",
    "def plot_baby(baby):\n",
    "    data_3d, _ = make_blobs(n_samples=2500, centers=baby, cluster_std=0.37)\n",
    "    x,y,z = baby[:,0], baby[:,1], baby[:2]\n",
    "    \n",
    "    fig = plt.figure()\n",
    "    ax = fig.add_subplot(111, projection='3d')\n",
    "    ax.scatter(x, y, z, linewidth=0.2)\n",
    "\n",
    "    plt.show()\n",
    "\n",
    "\n",
    "plot_baby(generate_baby())    "
   ]
  },
  {
   "cell_type": "code",
   "execution_count": null,
   "metadata": {},
   "outputs": [],
   "source": []
  }
 ],
 "metadata": {
  "interpreter": {
   "hash": "21f7f299da846c82a6949e3ad810ea688adcb92362792d4d3afe9dd28d6b5c4e"
  },
  "kernelspec": {
   "display_name": "Python 3",
   "language": "python",
   "name": "python3"
  },
  "language_info": {
   "codemirror_mode": {
    "name": "ipython",
    "version": 3
   },
   "file_extension": ".py",
   "mimetype": "text/x-python",
   "name": "python",
   "nbconvert_exporter": "python",
   "pygments_lexer": "ipython3",
   "version": "3.7.6"
  }
 },
 "nbformat": 4,
 "nbformat_minor": 2
}
