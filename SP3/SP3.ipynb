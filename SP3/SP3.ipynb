{
 "cells": [
  {
   "cell_type": "code",
   "execution_count": null,
   "metadata": {},
   "outputs": [],
   "source": [
    "#Dataset:\n",
    "import sklearn\n",
    "import sklearn.linear_model\n",
    "from sklearn import datasets\n",
    "import pandas as pd\n",
    "%matplotlib inline\n",
    "import matplotlib.pyplot as plt\n",
    "import numpy as np\n",
    "\n",
    "diabetes = datasets.load_diabetes()\n",
    "df = pd.DataFrame(data=diabetes.data, columns=diabetes.feature_names)\n",
    "df[\"target\"] = diabetes.target\n",
    "\n",
    "\n",
    "\n",
    "#Only use 2 features: bmi & bp\n",
    "#•\tbmi body mass index\n",
    "#•\tbp average blood pressure\n",
    "\n",
    "bmi = df[\"bmi\"]\n",
    "bp = df[\"bp\"]\n",
    "mask = df[[\"bmi\",\"bp\"]]\n",
    "#print(mask)\n",
    "mask.plot.scatter(x = 0, y = 1)\n",
    "plt.plot([-0.10, 0.15], [-0.15, 0.10])\n",
    "\n",
    "\n",
    "grade = (0.10-0.15)/(0.15-0.10)\n",
    "print(grade)\n",
    "#intercept = (5500 - 0.32*18000) = -260\n",
    "#1.\tPerform linear regression where x = bmi and y = bp\n",
    "bmi_reshape = np.array(bmi).reshape(-1, 1)\n",
    "#print(bmi.shape)\n",
    "#print(bmi_reshape.shape)\n",
    "#print(bmi_reshape)\n",
    "model = sklearn.linear_model.LinearRegression()\n",
    "model.fit(bmi_reshape, bp)\n",
    "grade = model.coef_\n",
    "intercept = model.intercept_\n",
    "y = grade + intercept\n",
    "# y = 0.39541532x + 4.458657129194255e-16 ???????\n",
    "#print(y)\n",
    "predicted = model.predict(bmi_reshape)\n",
    "spending10000 = model.predict([[0.10]])\n",
    "print('With a bmi 0.05 lower than the norm: {} chance of diabetes?'.format(spending10000[0]))\n",
    "#predicted\n",
    "#2.\tShow the regression equation (y=ax+b)\n",
    "#3.\tShow the regression line on a scatterplot with the other datapoints.\n",
    "#4.\tAccording to your model, what is y when x=2.\""
   ]
  }
 ],
 "metadata": {
  "language_info": {
   "name": "python"
  },
  "orig_nbformat": 4
 },
 "nbformat": 4,
 "nbformat_minor": 2
}
